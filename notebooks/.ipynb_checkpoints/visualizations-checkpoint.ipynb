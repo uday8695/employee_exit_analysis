{
 "cells": [
  {
   "cell_type": "code",
   "execution_count": 3,
   "id": "d1ab4844-539b-4496-8084-f5c044314ef9",
   "metadata": {},
   "outputs": [],
   "source": [
    "# visualizations.py\n",
    "\n",
    "import seaborn as sns\n",
    "import matplotlib.pyplot as plt\n",
    "\n",
    "def plot_satisfaction_vs_hours(df):\n",
    "    plt.figure(figsize=(10, 6))\n",
    "    sns.scatterplot(x='satisfaction_level', y='average_montly_hours', data=df, alpha=0.6)\n",
    "    plt.title('Satisfaction Level vs. Average Monthly Hours (Employees who Left)')\n",
    "    plt.xlabel('Satisfaction Level')\n",
    "    plt.ylabel('Average Monthly Hours')\n",
    "    plt.show()\n",
    "\n",
    "def plot_satisfaction_by_salary(df):\n",
    "    plt.figure(figsize=(10, 6))\n",
    "    sns.boxplot(x='salary', y='satisfaction_level', data=df, palette='muted')\n",
    "    plt.title('Satisfaction Level by Salary (Employees who Left)')\n",
    "    plt.xlabel('Salary Level')\n",
    "    plt.ylabel('Satisfaction Level')\n",
    "    plt.show()\n",
    "\n",
    "def plot_departments_left(df):\n",
    "    plt.figure(figsize=(12, 6))\n",
    "    sns.countplot(x='Department', data=df, palette='viridis', order=df['Department'].value_counts().index)\n",
    "    plt.title('Count of Employees who Left by Department')\n",
    "    plt.xlabel('Department')\n",
    "    plt.ylabel('Count')\n",
    "    plt.xticks(rotation=45)\n",
    "    plt.show()\n",
    "\n",
    "def plot_promotion_vs_salary(df):\n",
    "    plt.figure(figsize=(10, 6))\n",
    "    sns.countplot(x='promotion_last_5years', hue='salary', data=df, palette='coolwarm')\n",
    "    plt.title('Promotion in Last 5 Years vs Salary Level (Employees who Left)')\n",
    "    plt.xlabel('Promotion in Last 5 Years')\n",
    "    plt.ylabel('Count')\n",
    "    plt.show()\n"
   ]
  },
  {
   "cell_type": "code",
   "execution_count": null,
   "id": "2fba5e5f-340c-438b-81a1-14fd57e00130",
   "metadata": {},
   "outputs": [],
   "source": []
  }
 ],
 "metadata": {
  "kernelspec": {
   "display_name": "Python 3 (ipykernel)",
   "language": "python",
   "name": "python3"
  },
  "language_info": {
   "codemirror_mode": {
    "name": "ipython",
    "version": 3
   },
   "file_extension": ".py",
   "mimetype": "text/x-python",
   "name": "python",
   "nbconvert_exporter": "python",
   "pygments_lexer": "ipython3",
   "version": "3.12.4"
  }
 },
 "nbformat": 4,
 "nbformat_minor": 5
}
